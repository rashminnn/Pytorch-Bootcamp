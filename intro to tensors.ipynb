{
 "cells": [
  {
   "cell_type": "code",
   "execution_count": 1,
   "metadata": {
    "_cell_guid": "b1076dfc-b9ad-4769-8c92-a6c4dae69d19",
    "_uuid": "8f2839f25d086af736a60e9eeb907d3b93b6e0e5",
    "execution": {
     "iopub.execute_input": "2025-03-03T09:43:01.993395Z",
     "iopub.status.busy": "2025-03-03T09:43:01.993129Z",
     "iopub.status.idle": "2025-03-03T09:43:02.299560Z",
     "shell.execute_reply": "2025-03-03T09:43:02.298714Z",
     "shell.execute_reply.started": "2025-03-03T09:43:01.993367Z"
    },
    "trusted": true
   },
   "outputs": [],
   "source": [
    "# This Python 3 environment comes with many helpful analytics libraries installed\n",
    "# It is defined by the kaggle/python Docker image: https://github.com/kaggle/docker-python\n",
    "# For example, here's several helpful packages to load\n",
    "\n",
    "import numpy as np # linear algebra\n",
    "import pandas as pd # data processing, CSV file I/O (e.g. pd.read_csv)\n",
    "\n",
    "# Input data files are available in the read-only \"../input/\" directory\n",
    "# For example, running this (by clicking run or pressing Shift+Enter) will list all files under the input directory\n",
    "\n",
    "import os\n",
    "for dirname, _, filenames in os.walk('/kaggle/input'):\n",
    "    for filename in filenames:\n",
    "        print(os.path.join(dirname, filename))\n",
    "\n",
    "# You can write up to 20GB to the current directory (/kaggle/working/) that gets preserved as output when you create a version using \"Save & Run All\" \n",
    "# You can also write temporary files to /kaggle/temp/, but they won't be saved outside of the current session"
   ]
  },
  {
   "cell_type": "code",
   "execution_count": 7,
   "metadata": {
    "execution": {
     "iopub.execute_input": "2025-03-03T09:43:02.956024Z",
     "iopub.status.busy": "2025-03-03T09:43:02.955693Z",
     "iopub.status.idle": "2025-03-03T09:43:03.574618Z",
     "shell.execute_reply": "2025-03-03T09:43:03.573417Z",
     "shell.execute_reply.started": "2025-03-03T09:43:02.955994Z"
    },
    "trusted": true
   },
   "outputs": [],
   "source": [
    "!wget -q \"https://learnopencv.com/wp-content/uploads/2024/07/mnist_0.jpg\" -O \"mnist_0.jpg\"\n",
    "!wget -q \"https://learnopencv.com/wp-content/uploads/2024/07/mnist_1.jpg\" -O \"mnist_1.jpg\""
   ]
  },
  {
   "cell_type": "code",
   "execution_count": 8,
   "metadata": {
    "execution": {
     "iopub.execute_input": "2025-03-03T09:43:03.576249Z",
     "iopub.status.busy": "2025-03-03T09:43:03.575911Z",
     "iopub.status.idle": "2025-03-03T09:43:06.990469Z",
     "shell.execute_reply": "2025-03-03T09:43:06.989776Z",
     "shell.execute_reply.started": "2025-03-03T09:43:03.576219Z"
    },
    "trusted": true
   },
   "outputs": [],
   "source": [
    "import torch \n",
    "import matplotlib.pyplot as plt \n",
    "import numpy as np \n",
    "import cv2 as cv"
   ]
  },
  {
   "cell_type": "code",
   "execution_count": 9,
   "metadata": {
    "execution": {
     "iopub.execute_input": "2025-03-03T09:43:06.991524Z",
     "iopub.status.busy": "2025-03-03T09:43:06.991177Z",
     "iopub.status.idle": "2025-03-03T09:43:06.995926Z",
     "shell.execute_reply": "2025-03-03T09:43:06.994955Z",
     "shell.execute_reply.started": "2025-03-03T09:43:06.991502Z"
    },
    "trusted": true
   },
   "outputs": [
    {
     "name": "stdout",
     "output_type": "stream",
     "text": [
      "torch version : 2.5.1+cu121\n"
     ]
    }
   ],
   "source": [
    "print(\"torch version : {}\".format(torch.__version__))"
   ]
  },
  {
   "cell_type": "markdown",
   "metadata": {},
   "source": [
    "# 1. Converting Images to Batched tensors\n",
    "An image is made up of pixel arrays that represent the intensity of pixels in grayscale or the color values in RGB format. When working with deep learning models, it's often necessary to convert these images into tensors, which are the primary data structures used in PyTorch for handling and processing data.\n",
    "\n",
    "- Tensors: In PyTorch, tensors are multi-dimensional arrays similar to NumPy arrays, but with additional capabilities for GPU acceleration and automatic differentiation. Tensors are the fundamental building blocks for representing data and parameters in neural networks.\n",
    "\n",
    "- Batches: Batching is a technique where multiple data samples (images, in this case) are grouped together into a single tensor. This allows efficient processing of multiple samples simultaneously, to take advantage of the parallel processing capabilities of modern hardware.\n",
    "\n",
    "In the following block, we will see an example of converting two MNIST images into a single batched tensor of shape [2,3,28,28]"
   ]
  },
  {
   "cell_type": "code",
   "execution_count": 10,
   "metadata": {
    "execution": {
     "iopub.execute_input": "2025-03-03T09:43:06.996847Z",
     "iopub.status.busy": "2025-03-03T09:43:06.996559Z",
     "iopub.status.idle": "2025-03-03T09:43:07.030019Z",
     "shell.execute_reply": "2025-03-03T09:43:07.029224Z",
     "shell.execute_reply.started": "2025-03-03T09:43:06.996815Z"
    },
    "trusted": true
   },
   "outputs": [],
   "source": [
    "digit_0_array_original = cv.imread(\"/kaggle/working/mnist_0.jpg\")\n",
    "digit_1_array_original = cv.imread(\"/kaggle/working/mnist_1.jpg\")\n",
    "\n",
    "digit_0_array_gray = cv.imread(\"/kaggle/working/mnist_0.jpg\",cv.IMREAD_GRAYSCALE)\n",
    "digit_1_array_gray = cv.imread(\"/kaggle/working/mnist_1.jpg\",cv.IMREAD_GRAYSCALE)\n"
   ]
  },
  {
   "cell_type": "code",
   "execution_count": 11,
   "metadata": {
    "execution": {
     "iopub.execute_input": "2025-03-03T09:43:07.031032Z",
     "iopub.status.busy": "2025-03-03T09:43:07.030826Z",
     "iopub.status.idle": "2025-03-03T09:43:07.374831Z",
     "shell.execute_reply": "2025-03-03T09:43:07.374085Z",
     "shell.execute_reply.started": "2025-03-03T09:43:07.031014Z"
    },
    "trusted": true
   },
   "outputs": [
    {
     "data": {
      "image/png": "[encoded data removed]",
      "text/plain": [
       "<Figure size 2000x1000 with 4 Axes>"
      ]
     },
     "metadata": {},
     "output_type": "display_data"
    }
   ],
   "source": [
    "fig ,axs = plt.subplots(1,4 , figsize = (20,10))\n",
    "\n",
    "axs[0].imshow(digit_0_array_original , cmap= 'gray' , interpolation = 'none' )\n",
    "axs[0].set_title(\"Digit 0 Image\")\n",
    "axs[0].axis('off')\n",
    "\n",
    "axs[1].imshow(digit_1_array_original , cmap= 'gray' , interpolation = 'none' )\n",
    "axs[1].set_title(\"Digit 1 Image\")\n",
    "axs[1].axis('off')\n",
    "\n",
    "axs[2].imshow(digit_0_array_gray , cmap= 'gray' , interpolation = 'none' )\n",
    "axs[2].set_title(\"Digit 0 Image Gray\")\n",
    "axs[2].axis('off')\n",
    "\n",
    "axs[3].imshow(digit_0_array_gray , cmap= 'gray' , interpolation = 'none' )\n",
    "axs[3].set_title(\"Digit 1 Image Gray\")\n",
    "axs[3].axis('off')\n",
    "\n",
    "plt.show()"
   ]
  },
  {
   "cell_type": "code",
   "execution_count": 12,
   "metadata": {
    "execution": {
     "iopub.execute_input": "2025-03-03T09:43:07.375716Z",
     "iopub.status.busy": "2025-03-03T09:43:07.375466Z",
     "iopub.status.idle": "2025-03-03T09:43:07.380374Z",
     "shell.execute_reply": "2025-03-03T09:43:07.379738Z",
     "shell.execute_reply.started": "2025-03-03T09:43:07.375666Z"
    },
    "trusted": true
   },
   "outputs": [
    {
     "data": {
      "text/plain": [
       "(28, 28, 3)"
      ]
     },
     "execution_count": 12,
     "metadata": {},
     "output_type": "execute_result"
    }
   ],
   "source": [
    "digit_0_array_original.shape"
   ]
  },
  {
   "cell_type": "code",
   "execution_count": 13,
   "metadata": {
    "execution": {
     "iopub.execute_input": "2025-03-03T09:43:07.384061Z",
     "iopub.status.busy": "2025-03-03T09:43:07.383830Z",
     "iopub.status.idle": "2025-03-03T09:43:07.396492Z",
     "shell.execute_reply": "2025-03-03T09:43:07.395705Z",
     "shell.execute_reply.started": "2025-03-03T09:43:07.384034Z"
    },
    "trusted": true
   },
   "outputs": [
    {
     "name": "stdout",
     "output_type": "stream",
     "text": [
      "min 0\n",
      "max 255\n"
     ]
    }
   ],
   "source": [
    "print(f'min {np.min(digit_0_array_original)}')\n",
    "print(f'max {np.max(digit_0_array_original)}')"
   ]
  },
  {
   "cell_type": "code",
   "execution_count": 14,
   "metadata": {
    "execution": {
     "iopub.execute_input": "2025-03-03T09:43:07.398547Z",
     "iopub.status.busy": "2025-03-03T09:43:07.398333Z",
     "iopub.status.idle": "2025-03-03T09:43:07.413021Z",
     "shell.execute_reply": "2025-03-03T09:43:07.412274Z",
     "shell.execute_reply.started": "2025-03-03T09:43:07.398528Z"
    },
    "trusted": true
   },
   "outputs": [
    {
     "data": {
      "text/plain": [
       "array([[  0,   0,   0,   0,   7,   1,   0,   3,   0,  18,   0,   3,   0,\n",
       "          0,   3,   0,   0,   9,   0,   2,   0,  11,   0,   1,   0,   0,\n",
       "          0,   0],\n",
       "       [  0,   7,   7,   0,   0,   0,   0,   0,   2,   8,   0,   4,   0,\n",
       "          0,   0,   6,   4,   0,   2,   3,   2,   0,   0,  11,   0,   0,\n",
       "          0,   0],\n",
       "       [  1,   0,   2,   6,   4,   9,   9,   0,   0,   2,   0,   3,   1,\n",
       "         15,   0,   2,  16,   0,   2,   7,   0,   0,  22,   0,   0,   0,\n",
       "          0,   0],\n",
       "       [ 12,   0,   0,   8,   1,   0,   0,   0,   2,   0,   0,   0,   0,\n",
       "         14,   0,   0,   0,   7,   9,   0,   7,   0,   0,   0,   0,   0,\n",
       "          0,   0],\n",
       "       [  0,   0,   3,   5,   0,   0,   4,  16,   0,  10,  14,   6,  29,\n",
       "        122, 182, 255, 255, 152,  66,  26,   0,   0,  15,   0,   0,   0,\n",
       "          0,   0],\n",
       "       [  0,   7,   5,   0,   9,  12,   0,   0,   4,   0,  49, 184, 255,\n",
       "        255, 232, 255, 255, 231, 246, 227,  64,   0,   0,   4,   0,   0,\n",
       "          0,   0],\n",
       "       [  2,  15,   0,   0,   6,   0,   0,  13,   6, 148, 241, 255, 248,\n",
       "        236, 194, 151, 192, 253, 252, 244, 231, 121,   5,   6,   0,   0,\n",
       "          0,   0],\n",
       "       [  0,   7,   0,   0,   7,   0,  51, 191, 223, 254, 247, 248, 148,\n",
       "         30,   0,   6,  24,   0,  32, 116, 235, 255, 166,   0,   0,   0,\n",
       "          0,   0],\n",
       "       [  0,   4,   0,   0,  10,   0, 132, 246, 255, 247, 199,  77,   0,\n",
       "          0,   2,   0,   0,   7,   0,   0,  60, 238, 226,  46,   2,   0,\n",
       "          1,   5],\n",
       "       [  0,   0,   4,   0,  14,  59, 203, 255, 255, 201,  45,   1,  15,\n",
       "          0,   0,   1,   0,   4,   2,   0,   0, 137, 246, 169,   7,   0,\n",
       "          0,   4],\n",
       "       [  2,   0,   9,   0,   4, 127, 252, 252, 198,  32,   0,   0,   0,\n",
       "          5,   0,   3,   4,   0,   0,   1,   5,  78, 255, 222,  16,   1,\n",
       "          0,   3],\n",
       "       [  5,   0,   8,   0,   0, 150, 254, 247,  46,   7,   0,   8,   9,\n",
       "          0,   4,   3,   3,   0,   0,   4,   0,  19, 248, 254,  25,   4,\n",
       "          0,   2],\n",
       "       [  0,   1,   2,   0,   1, 150, 246, 255,  17,   9,   0,   4,   0,\n",
       "          0,   9,   0,   0,   0,   0,   6,   0,  46, 254, 255,  30,   5,\n",
       "          0,   2],\n",
       "       [  0,   1,   0,   0,   6, 139, 241, 251,  43,   0,  15,   6,   0,\n",
       "          9,   7,   0,   0,   0,   0,   3,  19, 120, 255, 240,  31,   5,\n",
       "          0,   3],\n",
       "       [  2,   0,   0,   2,   1, 133, 249, 197,   0,  27,   0,   0,  18,\n",
       "          0,   0,   8,   0,   7,   1,   0,   0, 153, 245, 255,  29,   3,\n",
       "          0,   5],\n",
       "       [  6,   0,   0,   4,   0, 142, 255, 156,   1,   0,   4,   0,   0,\n",
       "          6,   0,   0,   0,   3,   0,  10,  45, 245, 255, 250,  26,   2,\n",
       "          0,   6],\n",
       "       [  0,   0,   0,   0,   5, 152, 239,  63,   0,  14,   0,   4,   0,\n",
       "          1,   8,   0,   9,   0,   0,   5, 236, 255, 255, 152,   0,   0,\n",
       "          0,   0],\n",
       "       [  0,   9,  11,   0,   1, 126, 255,  59,   0,   1,   0,   5,   0,\n",
       "          1,   2,   0,   0,   0,  27, 169, 255, 247, 217,  26,   0,   0,\n",
       "          0,   0],\n",
       "       [  0,   0,   2,   0,  25,  97, 248,  83,   7,   0,   6,   0,   1,\n",
       "          0,   0,   0,   5,  47, 171, 255, 243, 255, 148,   0,   0,   0,\n",
       "          0,   0],\n",
       "       [  2,   0,  10,   0,   0,  13, 219, 255,  15,   0,  11,   0,   9,\n",
       "          6,   0,   7,  97, 239, 249, 243, 255, 163,  46,   0,   0,   0,\n",
       "          0,   0],\n",
       "       [ 15,   0,   0,   2,   6,   0, 100, 232, 246, 166, 104,  24,  32,\n",
       "         72, 128, 180, 245, 247, 255, 255, 174,   4,   0,   0,   0,   0,\n",
       "          0,   0],\n",
       "       [  0,   0,   8,   3,   0,   2,  63, 226, 254, 248, 255, 246, 255,\n",
       "        255, 255, 255, 255, 255, 237,  88,  13,  13,   0,  17,   0,   0,\n",
       "          0,   0],\n",
       "       [  0,   2,   0,   0,   0,   0,   0,  18, 199, 235, 250, 255, 255,\n",
       "        255, 255, 242, 255, 169,  43,  18,   0,   0,  11,   0,   0,   0,\n",
       "          0,   0],\n",
       "       [  2,   5,   0,   4,   1,   5,   8,   0,   9, 104, 169, 241, 248,\n",
       "        255, 247, 220,  95,  10,   7,   0,   0,   0,   0,   0,   0,   0,\n",
       "          0,   0],\n",
       "       [  0,   0,   0,   0,   0,   0,   0,   0,   0,   0,   0,   0,   0,\n",
       "          0,   0,   0,   0,   0,   0,   0,   0,   0,   0,   0,   0,   0,\n",
       "          0,   0],\n",
       "       [  0,   0,   0,   0,   0,   0,   0,   0,   0,   0,   0,   0,   0,\n",
       "          0,   0,   0,   0,   0,   0,   0,   0,   0,   0,   0,   0,   0,\n",
       "          0,   0],\n",
       "       [  0,   0,   0,   0,   0,   0,   0,   0,   0,   0,   0,   0,   0,\n",
       "          0,   0,   0,   0,   0,   0,   0,   0,   0,   0,   0,   0,   0,\n",
       "          0,   0],\n",
       "       [  0,   0,   0,   0,   0,   0,   0,   0,   0,   0,   0,   0,   0,\n",
       "          0,   0,   0,   0,   0,   0,   0,   0,   0,   0,   0,   0,   0,\n",
       "          0,   0]], dtype=uint8)"
      ]
     },
     "execution_count": 14,
     "metadata": {},
     "output_type": "execute_result"
    }
   ],
   "source": [
    "digit_0_array_gray"
   ]
  },
  {
   "cell_type": "markdown",
   "metadata": {},
   "source": [
    "# 1.1. Convert Numpy array to Torch tensors\n",
    "\n",
    "* when we do any numerical calculation on images specially when we are trying to use it in a neural network we need to convert it to float32 otherwise there will be loss of precision,"
   ]
  },
  {
   "cell_type": "code",
   "execution_count": 15,
   "metadata": {
    "execution": {
     "iopub.execute_input": "2025-03-03T09:43:07.413893Z",
     "iopub.status.busy": "2025-03-03T09:43:07.413664Z",
     "iopub.status.idle": "2025-03-03T09:43:07.455973Z",
     "shell.execute_reply": "2025-03-03T09:43:07.455391Z",
     "shell.execute_reply.started": "2025-03-03T09:43:07.413868Z"
    },
    "trusted": true
   },
   "outputs": [],
   "source": [
    "img_tensor_0 = torch.tensor(digit_0_array_original , dtype = torch.float32)/255.0  # 1 is white 0 is black \n",
    "img_tensor_1 = torch.tensor(digit_1_array_original , dtype = torch.float32)/255.0"
   ]
  },
  {
   "cell_type": "code",
   "execution_count": 16,
   "metadata": {
    "execution": {
     "iopub.execute_input": "2025-03-03T09:43:07.456949Z",
     "iopub.status.busy": "2025-03-03T09:43:07.456692Z",
     "iopub.status.idle": "2025-03-03T09:43:07.471518Z",
     "shell.execute_reply": "2025-03-03T09:43:07.470736Z",
     "shell.execute_reply.started": "2025-03-03T09:43:07.456918Z"
    },
    "trusted": true
   },
   "outputs": [
    {
     "name": "stdout",
     "output_type": "stream",
     "text": [
      "Shape of Normalised Digit 0 Tensor:  torch.Size([28, 28, 3])\n",
      "Normalised Min pixel value: 0.0 ; Normalised Max pixel value : 1.0\n"
     ]
    }
   ],
   "source": [
    "print(\"Shape of Normalised Digit 0 Tensor: \", img_tensor_0.shape)\n",
    "print(f\"Normalised Min pixel value: {torch.min(img_tensor_0)} ; Normalised Max pixel value : {torch.max(img_tensor_0)}\")"
   ]
  },
  {
   "cell_type": "code",
   "execution_count": 17,
   "metadata": {
    "execution": {
     "iopub.execute_input": "2025-03-03T09:43:07.472808Z",
     "iopub.status.busy": "2025-03-03T09:43:07.472481Z",
     "iopub.status.idle": "2025-03-03T09:43:07.552541Z",
     "shell.execute_reply": "2025-03-03T09:43:07.551891Z",
     "shell.execute_reply.started": "2025-03-03T09:43:07.472777Z"
    },
    "trusted": true
   },
   "outputs": [
    {
     "data": {
      "image/png": "[encoded data removed]",
      "text/plain": [
       "<Figure size 640x480 with 1 Axes>"
      ]
     },
     "metadata": {},
     "output_type": "display_data"
    }
   ],
   "source": [
    "plt.imshow(img_tensor_0,cmap=\"gray\")\n",
    "plt.title(\"Normalised Digit 0 Image\")\n",
    "plt.axis('off')\n",
    "plt.show()"
   ]
  },
  {
   "cell_type": "code",
   "execution_count": 18,
   "metadata": {
    "execution": {
     "iopub.execute_input": "2025-03-03T09:43:07.553530Z",
     "iopub.status.busy": "2025-03-03T09:43:07.553321Z",
     "iopub.status.idle": "2025-03-03T09:43:07.589533Z",
     "shell.execute_reply": "2025-03-03T09:43:07.588745Z",
     "shell.execute_reply.started": "2025-03-03T09:43:07.553512Z"
    },
    "trusted": true
   },
   "outputs": [
    {
     "data": {
      "text/plain": [
       "tensor([[[0.0000, 0.0000, 0.0000],\n",
       "         [0.0000, 0.0000, 0.0000],\n",
       "         [0.0000, 0.0000, 0.0000],\n",
       "         ...,\n",
       "         [0.0000, 0.0000, 0.0000],\n",
       "         [0.0000, 0.0000, 0.0000],\n",
       "         [0.0000, 0.0000, 0.0000]],\n",
       "\n",
       "        [[0.0000, 0.0000, 0.0000],\n",
       "         [0.0275, 0.0275, 0.0275],\n",
       "         [0.0275, 0.0275, 0.0275],\n",
       "         ...,\n",
       "         [0.0000, 0.0000, 0.0000],\n",
       "         [0.0000, 0.0000, 0.0000],\n",
       "         [0.0000, 0.0000, 0.0000]],\n",
       "\n",
       "        [[0.0039, 0.0039, 0.0039],\n",
       "         [0.0000, 0.0000, 0.0000],\n",
       "         [0.0078, 0.0078, 0.0078],\n",
       "         ...,\n",
       "         [0.0000, 0.0000, 0.0000],\n",
       "         [0.0000, 0.0000, 0.0000],\n",
       "         [0.0000, 0.0000, 0.0000]],\n",
       "\n",
       "        ...,\n",
       "\n",
       "        [[0.0000, 0.0000, 0.0000],\n",
       "         [0.0000, 0.0000, 0.0000],\n",
       "         [0.0000, 0.0000, 0.0000],\n",
       "         ...,\n",
       "         [0.0000, 0.0000, 0.0000],\n",
       "         [0.0000, 0.0000, 0.0000],\n",
       "         [0.0000, 0.0000, 0.0000]],\n",
       "\n",
       "        [[0.0000, 0.0000, 0.0000],\n",
       "         [0.0000, 0.0000, 0.0000],\n",
       "         [0.0000, 0.0000, 0.0000],\n",
       "         ...,\n",
       "         [0.0000, 0.0000, 0.0000],\n",
       "         [0.0000, 0.0000, 0.0000],\n",
       "         [0.0000, 0.0000, 0.0000]],\n",
       "\n",
       "        [[0.0000, 0.0000, 0.0000],\n",
       "         [0.0000, 0.0000, 0.0000],\n",
       "         [0.0000, 0.0000, 0.0000],\n",
       "         ...,\n",
       "         [0.0000, 0.0000, 0.0000],\n",
       "         [0.0000, 0.0000, 0.0000],\n",
       "         [0.0000, 0.0000, 0.0000]]])"
      ]
     },
     "execution_count": 18,
     "metadata": {},
     "output_type": "execute_result"
    }
   ],
   "source": [
    "img_tensor_0\n"
   ]
  },
  {
   "cell_type": "markdown",
   "metadata": {},
   "source": [
    "# 1.2 Creating an input batch"
   ]
  },
  {
   "cell_type": "code",
   "execution_count": 19,
   "metadata": {
    "execution": {
     "iopub.execute_input": "2025-03-03T09:43:07.590616Z",
     "iopub.status.busy": "2025-03-03T09:43:07.590337Z",
     "iopub.status.idle": "2025-03-03T09:43:07.595421Z",
     "shell.execute_reply": "2025-03-03T09:43:07.594849Z",
     "shell.execute_reply.started": "2025-03-03T09:43:07.590589Z"
    },
    "trusted": true
   },
   "outputs": [
    {
     "data": {
      "text/plain": [
       "torch.Size([2, 28, 28, 3])"
      ]
     },
     "execution_count": 19,
     "metadata": {},
     "output_type": "execute_result"
    }
   ],
   "source": [
    "batch_tensor = torch.stack([img_tensor_0 , img_tensor_1]) # This batch processes all together in parallel\n",
    "\n",
    "batch_tensor.shape\n",
    "\n",
    "# torch.Size([2, 28, 28, 3]) Number of images(samples) or shape ,height,width , number of channels "
   ]
  },
  {
   "cell_type": "markdown",
   "metadata": {},
   "source": [
    "Additionally in PyTorch, image tensors typically follow the shape convention [N ,C ,H ,W] unlike tensorflow which follows [N, H, W, C].\n",
    "\n",
    "Therefore, we need to bring the color channel to the second dimension. This can be achieved using either torch.view() or torch.permute()."
   ]
  },
  {
   "cell_type": "code",
   "execution_count": 20,
   "metadata": {
    "execution": {
     "iopub.execute_input": "2025-03-03T09:43:07.596352Z",
     "iopub.status.busy": "2025-03-03T09:43:07.596131Z",
     "iopub.status.idle": "2025-03-03T09:43:07.612341Z",
     "shell.execute_reply": "2025-03-03T09:43:07.611457Z",
     "shell.execute_reply.started": "2025-03-03T09:43:07.596321Z"
    },
    "trusted": true
   },
   "outputs": [
    {
     "data": {
      "text/plain": [
       "torch.Size([2, 3, 28, 28])"
      ]
     },
     "execution_count": 20,
     "metadata": {},
     "output_type": "execute_result"
    }
   ],
   "source": [
    "batch_input = batch_tensor.permute(0,3,1,2)\n",
    "batch_input.shape"
   ]
  },
  {
   "attachments": {
    "4650bb28-bed0-46b0-bf00-c5b75642771f.jpg": {
     "image/jpeg": "[encoded data removed]"
    }
   },
   "cell_type": "markdown",
   "metadata": {},
   "source": [
    "# 2. Introduction to Tensors and its Operations\n",
    "We have seen the importance of tensors, now will understand it from ground up. Tensor is simply a fancy name given to matrices. If you are familiar with NumPy arrays, understanding and using PyTorch Tensors will be very easy. A scalar value is represented by a 0-dimensional Tensor. Similarly, a column/row matrix is represented using a 1-D Tensor and so on. Some examples of Tensors with different dimensions are shown for you to visualize and understand.\n",
    "\n",
    "![PyTorch-Tensors.jpg](attachment:4650bb28-bed0-46b0-bf00-c5b75642771f.jpg)"
   ]
  },
  {
   "cell_type": "markdown",
   "metadata": {},
   "source": [
    "##  2.1 Construct your first tensor"
   ]
  },
  {
   "cell_type": "code",
   "execution_count": 21,
   "metadata": {
    "execution": {
     "iopub.execute_input": "2025-03-03T09:43:07.613330Z",
     "iopub.status.busy": "2025-03-03T09:43:07.613056Z",
     "iopub.status.idle": "2025-03-03T09:43:07.629572Z",
     "shell.execute_reply": "2025-03-03T09:43:07.628807Z",
     "shell.execute_reply.started": "2025-03-03T09:43:07.613303Z"
    },
    "trusted": true
   },
   "outputs": [
    {
     "name": "stdout",
     "output_type": "stream",
     "text": [
      "tensor([1., 1., 1., 1., 1.])\n"
     ]
    }
   ],
   "source": [
    "a = torch.ones(5)\n",
    "print(a)"
   ]
  },
  {
   "cell_type": "code",
   "execution_count": 22,
   "metadata": {
    "execution": {
     "iopub.execute_input": "2025-03-03T09:43:07.630733Z",
     "iopub.status.busy": "2025-03-03T09:43:07.630509Z",
     "iopub.status.idle": "2025-03-03T09:43:07.645743Z",
     "shell.execute_reply": "2025-03-03T09:43:07.644903Z",
     "shell.execute_reply.started": "2025-03-03T09:43:07.630707Z"
    },
    "trusted": true
   },
   "outputs": [
    {
     "name": "stdout",
     "output_type": "stream",
     "text": [
      "tensor([0., 0., 0., 0., 0.])\n"
     ]
    }
   ],
   "source": [
    "b= torch.zeros(5)\n",
    "print(b)"
   ]
  },
  {
   "cell_type": "code",
   "execution_count": 23,
   "metadata": {
    "execution": {
     "iopub.execute_input": "2025-03-03T09:43:07.647086Z",
     "iopub.status.busy": "2025-03-03T09:43:07.646667Z",
     "iopub.status.idle": "2025-03-03T09:43:07.651665Z",
     "shell.execute_reply": "2025-03-03T09:43:07.651066Z",
     "shell.execute_reply.started": "2025-03-03T09:43:07.647058Z"
    },
    "trusted": true
   },
   "outputs": [
    {
     "name": "stdout",
     "output_type": "stream",
     "text": [
      "tensor([1., 2., 3., 4., 5.])\n"
     ]
    }
   ],
   "source": [
    "c = torch.tensor([1.0, 2.0, 3.0, 4.0, 5.0])\n",
    "print(c)"
   ]
  },
  {
   "cell_type": "markdown",
   "metadata": {},
   "source": [
    "In all the above cases, we have created vectors or Tensors of dimension 1. Now, let’s create some tensors of higher dimension."
   ]
  },
  {
   "cell_type": "code",
   "execution_count": 24,
   "metadata": {
    "execution": {
     "iopub.execute_input": "2025-03-03T09:43:07.652509Z",
     "iopub.status.busy": "2025-03-03T09:43:07.652295Z",
     "iopub.status.idle": "2025-03-03T09:43:07.668323Z",
     "shell.execute_reply": "2025-03-03T09:43:07.667709Z",
     "shell.execute_reply.started": "2025-03-03T09:43:07.652481Z"
    },
    "trusted": true
   },
   "outputs": [
    {
     "name": "stdout",
     "output_type": "stream",
     "text": [
      "tensor([[0., 0.],\n",
      "        [0., 0.],\n",
      "        [0., 0.]])\n",
      "tensor([[1., 1.],\n",
      "        [1., 1.],\n",
      "        [1., 1.]])\n",
      "tensor([[1., 2.],\n",
      "        [3., 4.]])\n",
      "tensor([[[1., 2.],\n",
      "         [3., 4.]],\n",
      "\n",
      "        [[5., 6.],\n",
      "         [7., 8.]]])\n"
     ]
    }
   ],
   "source": [
    "d = torch.zeros(3,2)\n",
    "print(d)\n",
    "\n",
    "e = torch.ones(3,2)\n",
    "print(e)\n",
    "\n",
    "f = torch.tensor([[1.0, 2.0],[3.0, 4.0]])\n",
    "print(f)\n",
    "\n",
    "# 3D Tensor\n",
    "g = torch.tensor([[[1., 2.], [3., 4.]], [[5., 6.], [7., 8.]]])\n",
    "print(g)"
   ]
  },
  {
   "cell_type": "code",
   "execution_count": 25,
   "metadata": {
    "execution": {
     "iopub.execute_input": "2025-03-03T09:43:07.669130Z",
     "iopub.status.busy": "2025-03-03T09:43:07.668903Z",
     "iopub.status.idle": "2025-03-03T09:43:07.682469Z",
     "shell.execute_reply": "2025-03-03T09:43:07.681633Z",
     "shell.execute_reply.started": "2025-03-03T09:43:07.669112Z"
    },
    "trusted": true
   },
   "outputs": [
    {
     "name": "stdout",
     "output_type": "stream",
     "text": [
      "torch.Size([2, 2])\n",
      "torch.Size([3, 2])\n",
      "torch.Size([2, 2, 2])\n"
     ]
    }
   ],
   "source": [
    "print(f.shape)\n",
    "\n",
    "print(e.shape)\n",
    "\n",
    "print(g.shape)"
   ]
  },
  {
   "cell_type": "markdown",
   "metadata": {},
   "source": [
    "## 2.2. Access an element in Tensor"
   ]
  },
  {
   "cell_type": "code",
   "execution_count": 26,
   "metadata": {
    "execution": {
     "iopub.execute_input": "2025-03-03T09:43:07.683353Z",
     "iopub.status.busy": "2025-03-03T09:43:07.683167Z",
     "iopub.status.idle": "2025-03-03T09:43:07.698457Z",
     "shell.execute_reply": "2025-03-03T09:43:07.697775Z",
     "shell.execute_reply.started": "2025-03-03T09:43:07.683337Z"
    },
    "trusted": true
   },
   "outputs": [
    {
     "name": "stdout",
     "output_type": "stream",
     "text": [
      "tensor(3.)\n"
     ]
    }
   ],
   "source": [
    "print(c[2])"
   ]
  },
  {
   "cell_type": "code",
   "execution_count": 27,
   "metadata": {
    "execution": {
     "iopub.execute_input": "2025-03-03T09:43:07.699402Z",
     "iopub.status.busy": "2025-03-03T09:43:07.699200Z",
     "iopub.status.idle": "2025-03-03T09:43:07.713907Z",
     "shell.execute_reply": "2025-03-03T09:43:07.713196Z",
     "shell.execute_reply.started": "2025-03-03T09:43:07.699385Z"
    },
    "trusted": true
   },
   "outputs": [
    {
     "name": "stdout",
     "output_type": "stream",
     "text": [
      "tensor(3.)\n"
     ]
    }
   ],
   "source": [
    "print(f[1,0])"
   ]
  },
  {
   "cell_type": "code",
   "execution_count": 28,
   "metadata": {
    "execution": {
     "iopub.execute_input": "2025-03-03T09:43:07.714898Z",
     "iopub.status.busy": "2025-03-03T09:43:07.714600Z",
     "iopub.status.idle": "2025-03-03T09:43:07.728451Z",
     "shell.execute_reply": "2025-03-03T09:43:07.727739Z",
     "shell.execute_reply.started": "2025-03-03T09:43:07.714871Z"
    },
    "trusted": true
   },
   "outputs": [
    {
     "name": "stdout",
     "output_type": "stream",
     "text": [
      "tensor(5.)\n",
      "tensor(5.)\n"
     ]
    }
   ],
   "source": [
    "print(g[1,0,0])\n",
    "print(g[1][0][0])"
   ]
  },
  {
   "cell_type": "code",
   "execution_count": 29,
   "metadata": {
    "execution": {
     "iopub.execute_input": "2025-03-03T09:43:07.729659Z",
     "iopub.status.busy": "2025-03-03T09:43:07.729425Z",
     "iopub.status.idle": "2025-03-03T09:43:07.745635Z",
     "shell.execute_reply": "2025-03-03T09:43:07.745043Z",
     "shell.execute_reply.started": "2025-03-03T09:43:07.729638Z"
    },
    "trusted": true
   },
   "outputs": [
    {
     "name": "stdout",
     "output_type": "stream",
     "text": [
      "tensor([[1., 2.],\n",
      "        [3., 4.]])\n"
     ]
    }
   ],
   "source": [
    "print(f[:])"
   ]
  },
  {
   "cell_type": "code",
   "execution_count": 30,
   "metadata": {
    "execution": {
     "iopub.execute_input": "2025-03-03T09:43:07.746633Z",
     "iopub.status.busy": "2025-03-03T09:43:07.746378Z",
     "iopub.status.idle": "2025-03-03T09:43:07.761312Z",
     "shell.execute_reply": "2025-03-03T09:43:07.760621Z",
     "shell.execute_reply.started": "2025-03-03T09:43:07.746605Z"
    },
    "trusted": true
   },
   "outputs": [
    {
     "name": "stdout",
     "output_type": "stream",
     "text": [
      "tensor([2., 3.])\n"
     ]
    }
   ],
   "source": [
    "print(c[1:3])"
   ]
  },
  {
   "cell_type": "code",
   "execution_count": 31,
   "metadata": {
    "execution": {
     "iopub.execute_input": "2025-03-03T09:43:07.762321Z",
     "iopub.status.busy": "2025-03-03T09:43:07.762048Z",
     "iopub.status.idle": "2025-03-03T09:43:07.777901Z",
     "shell.execute_reply": "2025-03-03T09:43:07.777102Z",
     "shell.execute_reply.started": "2025-03-03T09:43:07.762295Z"
    },
    "trusted": true
   },
   "outputs": [
    {
     "name": "stdout",
     "output_type": "stream",
     "text": [
      "tensor([1., 2., 3., 4.])\n"
     ]
    }
   ],
   "source": [
    "print(c[:4])"
   ]
  },
  {
   "cell_type": "code",
   "execution_count": 32,
   "metadata": {
    "execution": {
     "iopub.execute_input": "2025-03-03T09:43:07.778960Z",
     "iopub.status.busy": "2025-03-03T09:43:07.778666Z",
     "iopub.status.idle": "2025-03-03T09:43:07.792534Z",
     "shell.execute_reply": "2025-03-03T09:43:07.791733Z",
     "shell.execute_reply.started": "2025-03-03T09:43:07.778935Z"
    },
    "trusted": true
   },
   "outputs": [
    {
     "name": "stdout",
     "output_type": "stream",
     "text": [
      "tensor([1., 2.])\n"
     ]
    }
   ],
   "source": [
    "print(f[0,:])"
   ]
  },
  {
   "cell_type": "code",
   "execution_count": 33,
   "metadata": {
    "execution": {
     "iopub.execute_input": "2025-03-03T09:43:07.793647Z",
     "iopub.status.busy": "2025-03-03T09:43:07.793372Z",
     "iopub.status.idle": "2025-03-03T09:43:07.809235Z",
     "shell.execute_reply": "2025-03-03T09:43:07.808565Z",
     "shell.execute_reply.started": "2025-03-03T09:43:07.793621Z"
    },
    "trusted": true
   },
   "outputs": [
    {
     "name": "stdout",
     "output_type": "stream",
     "text": [
      "tensor([2., 4.])\n"
     ]
    }
   ],
   "source": [
    "print(f[:,1])"
   ]
  },
  {
   "cell_type": "markdown",
   "metadata": {},
   "source": [
    "## 2.3. Specify data type of elements\n",
    "Whenever we create a tensor, PyTorch decides the data type of the elements of the tensor such that the data type can cover all the elements of the tensor. We can override this by specifying the data type while creating the tensor."
   ]
  },
  {
   "cell_type": "code",
   "execution_count": 34,
   "metadata": {
    "execution": {
     "iopub.execute_input": "2025-03-03T09:43:07.810312Z",
     "iopub.status.busy": "2025-03-03T09:43:07.810032Z",
     "iopub.status.idle": "2025-03-03T09:43:07.826778Z",
     "shell.execute_reply": "2025-03-03T09:43:07.826112Z",
     "shell.execute_reply.started": "2025-03-03T09:43:07.810285Z"
    },
    "trusted": true
   },
   "outputs": [
    {
     "name": "stdout",
     "output_type": "stream",
     "text": [
      "torch.int64\n",
      "torch.float32\n",
      "tensor([[1., 2., 3.],\n",
      "        [4., 5., 6.]])\n",
      "torch.int64\n",
      "tensor([[1, 2, 3],\n",
      "        [4, 5, 6]])\n"
     ]
    }
   ],
   "source": [
    "int_tensor = torch.tensor([[1,2,3],[4,5,6]])\n",
    "print(int_tensor.dtype)\n",
    "\n",
    "# What if we changed any one element to floating point number?\n",
    "int_tensor = torch.tensor([[1,2,3],[4.,5,6]])\n",
    "print(int_tensor.dtype)\n",
    "print(int_tensor)\n",
    "\n",
    "# This can be overridden as follows\n",
    "float_tensor = torch.tensor([[1, 2, 3],[4., 5, 6]])\n",
    "int_tensor = float_tensor.type(torch.int64)\n",
    "print(int_tensor.dtype)\n",
    "print(int_tensor)"
   ]
  },
  {
   "cell_type": "markdown",
   "metadata": {},
   "source": [
    "## 2.4. Tensor to/from NumPy Array\n",
    "We have mentioned several times that PyTorch Tensors and NumPy arrays are pretty similar. This of course demands the question if it’s possible to convert one data structure into another. Let’s see how we can do this."
   ]
  },
  {
   "cell_type": "code",
   "execution_count": 35,
   "metadata": {
    "execution": {
     "iopub.execute_input": "2025-03-03T09:43:07.827803Z",
     "iopub.status.busy": "2025-03-03T09:43:07.827554Z",
     "iopub.status.idle": "2025-03-03T09:43:07.843878Z",
     "shell.execute_reply": "2025-03-03T09:43:07.843208Z",
     "shell.execute_reply.started": "2025-03-03T09:43:07.827773Z"
    },
    "trusted": true
   },
   "outputs": [
    {
     "name": "stdout",
     "output_type": "stream",
     "text": [
      "[[1. 2.]\n",
      " [3. 4.]]\n",
      "tensor([[8, 7, 6, 5],\n",
      "        [4, 3, 2, 1]])\n"
     ]
    }
   ],
   "source": [
    "# Tensor to Array\n",
    "f_numpy = f.numpy()\n",
    "print(f_numpy)\n",
    "\n",
    "# Array to Tensor\n",
    "h = np.array([[8,7,6,5],[4,3,2,1]])\n",
    "h_tensor = torch.from_numpy(h)\n",
    "print(h_tensor)"
   ]
  },
  {
   "cell_type": "code",
   "execution_count": 36,
   "metadata": {
    "execution": {
     "iopub.execute_input": "2025-03-03T09:43:07.844755Z",
     "iopub.status.busy": "2025-03-03T09:43:07.844530Z",
     "iopub.status.idle": "2025-03-03T09:43:07.876734Z",
     "shell.execute_reply": "2025-03-03T09:43:07.876146Z",
     "shell.execute_reply.started": "2025-03-03T09:43:07.844736Z"
    },
    "trusted": true
   },
   "outputs": [
    {
     "name": "stdout",
     "output_type": "stream",
     "text": [
      "tensor([[ 0,  4,  0],\n",
      "        [ 8,  0, 12]])\n",
      "tensor([[ 0,  4,  0],\n",
      "        [ 8,  0, 12]])\n",
      "tensor([[ 2,  0,  6],\n",
      "        [ 0, 10,  0]])\n",
      "tensor([[ 2,  0,  6],\n",
      "        [ 0, 10,  0]])\n",
      "tensor([[ 2,  4,  6],\n",
      "        [ 8, 10, 12]])\n",
      "tensor([[ -1,   4,  -9],\n",
      "        [ 16, -25,  36]])\n",
      "tensor([[22, 28],\n",
      "        [49, 64]])\n",
      "tensor([[0.5000, 1.0000, 1.5000],\n",
      "        [2.0000, 2.5000, 3.0000]])\n",
      "tensor([[-1.,  1., -1.],\n",
      "        [ 1., -1.,  1.]])\n"
     ]
    }
   ],
   "source": [
    "# Create tensor\n",
    "tensor1 = torch.tensor([[1,2,3],[4,5,6]])\n",
    "tensor2 = torch.tensor([[-1,2,-3],[4,-5,6]])\n",
    "\n",
    "# Addition\n",
    "print(tensor1+tensor2)\n",
    "# We can also use\n",
    "print(torch.add(tensor1,tensor2))\n",
    "\n",
    "# Subtraction\n",
    "print(tensor1-tensor2)\n",
    "# We can also use\n",
    "print(torch.sub(tensor1,tensor2))\n",
    "\n",
    "# Multiplication\n",
    "# Tensor with Scalar\n",
    "print(tensor1 * 2)\n",
    "\n",
    "# Tensor with another tensor\n",
    "# Elementwise Multiplication\n",
    "print(tensor1 * tensor2)\n",
    "\n",
    "# Matrix multiplication\n",
    "tensor3 = torch.tensor([[1,2],[3,4],[5,6]])\n",
    "print(torch.mm(tensor1,tensor3))\n",
    "\n",
    "# Division\n",
    "# Tensor with scalar\n",
    "print(tensor1/2)\n",
    "\n",
    "# Tensor with another tensor\n",
    "# Elementwise division\n",
    "print(tensor1/tensor2)"
   ]
  },
  {
   "cell_type": "markdown",
   "metadata": {},
   "source": [
    "## 2.6. Broadcasting\n",
    "* a is a 1-dimensional tensor with shape ([ 3 ]).\n",
    "* b is a scalar tensor with shape ([ 1 ]).\n",
    "When adding a and b, PyTorch broadcasts b to match the shape of a, resulting in ([ 1 + 4, 2 + 4, 3 + 4 ])."
   ]
  },
  {
   "cell_type": "code",
   "execution_count": 37,
   "metadata": {
    "execution": {
     "iopub.execute_input": "2025-03-03T09:43:07.877712Z",
     "iopub.status.busy": "2025-03-03T09:43:07.877425Z",
     "iopub.status.idle": "2025-03-03T09:43:07.883656Z",
     "shell.execute_reply": "2025-03-03T09:43:07.883007Z",
     "shell.execute_reply.started": "2025-03-03T09:43:07.877665Z"
    },
    "trusted": true
   },
   "outputs": [
    {
     "name": "stdout",
     "output_type": "stream",
     "text": [
      "Result of Broadcasting:\n",
      " tensor([5, 6, 7])\n"
     ]
    }
   ],
   "source": [
    "# Create two 1-dimensional tensors\n",
    "a = torch.tensor([1, 2, 3])\n",
    "b = torch.tensor([4])\n",
    "\n",
    "# adding a scalar to a vector\n",
    "result = a + b\n",
    "\n",
    "print(\"Result of Broadcasting:\\n\",result)"
   ]
  },
  {
   "cell_type": "code",
   "execution_count": 38,
   "metadata": {
    "execution": {
     "iopub.execute_input": "2025-03-03T09:43:07.884718Z",
     "iopub.status.busy": "2025-03-03T09:43:07.884470Z",
     "iopub.status.idle": "2025-03-03T09:43:07.901443Z",
     "shell.execute_reply": "2025-03-03T09:43:07.900744Z",
     "shell.execute_reply.started": "2025-03-03T09:43:07.884689Z"
    },
    "trusted": true
   },
   "outputs": [
    {
     "name": "stdout",
     "output_type": "stream",
     "text": [
      "Shape:  torch.Size([3, 3])\n",
      "\n",
      "\n",
      "Result of Broadcasting:\n",
      " tensor([[5, 6, 7],\n",
      "        [6, 7, 8],\n",
      "        [7, 8, 9]])\n"
     ]
    }
   ],
   "source": [
    "# Create two tensors with shapes (1, 3) and (3, 1)\n",
    "a = torch.tensor([[1, 2, 3]])\n",
    "b = torch.tensor([[4], [5], [6]])\n",
    "\n",
    "# adding tensors of different shapes\n",
    "result = a + b\n",
    "print(\"Shape: \", result.shape)\n",
    "print(\"\\n\")\n",
    "print(\"Result of Broadcasting:\\n\", result)"
   ]
  },
  {
   "cell_type": "markdown",
   "metadata": {},
   "source": [
    "## 2.7. CPU v/s GPU Tensor\n",
    "Let’s first see how to create a tensor for GPU."
   ]
  },
  {
   "cell_type": "code",
   "execution_count": 39,
   "metadata": {
    "execution": {
     "iopub.execute_input": "2025-03-03T09:43:07.902543Z",
     "iopub.status.busy": "2025-03-03T09:43:07.902275Z",
     "iopub.status.idle": "2025-03-03T09:43:08.129591Z",
     "shell.execute_reply": "2025-03-03T09:43:08.128729Z",
     "shell.execute_reply.started": "2025-03-03T09:43:07.902515Z"
    },
    "trusted": true
   },
   "outputs": [],
   "source": [
    "# Create a tensor for CPU\n",
    "# This will occupy CPU RAM\n",
    "tensor_cpu = torch.tensor([[1.0, 2.0], [3.0, 4.0], [5.0, 6.0]], device='cpu')\n",
    "\n",
    "# Create a tensor for GPU\n",
    "# This will occupy GPU RAM\n",
    "tensor_gpu = torch.tensor([[1.0, 2.0], [3.0, 4.0], [5.0, 6.0]], device='cuda')"
   ]
  },
  {
   "cell_type": "code",
   "execution_count": 40,
   "metadata": {
    "execution": {
     "iopub.execute_input": "2025-03-03T09:43:08.133662Z",
     "iopub.status.busy": "2025-03-03T09:43:08.133413Z",
     "iopub.status.idle": "2025-03-03T09:43:08.167357Z",
     "shell.execute_reply": "2025-03-03T09:43:08.166520Z",
     "shell.execute_reply.started": "2025-03-03T09:43:08.133640Z"
    },
    "trusted": true
   },
   "outputs": [],
   "source": [
    "# This uses CPU RAM\n",
    "tensor_cpu = tensor_cpu * 5\n",
    "\n",
    "# This uses GPU RAM\n",
    "# Focus on GPU RAM Consumption\n",
    "tensor_gpu = tensor_gpu * 5"
   ]
  },
  {
   "cell_type": "code",
   "execution_count": 41,
   "metadata": {
    "execution": {
     "iopub.execute_input": "2025-03-03T09:43:08.168532Z",
     "iopub.status.busy": "2025-03-03T09:43:08.168304Z",
     "iopub.status.idle": "2025-03-03T09:43:08.172617Z",
     "shell.execute_reply": "2025-03-03T09:43:08.171777Z",
     "shell.execute_reply.started": "2025-03-03T09:43:08.168513Z"
    },
    "trusted": true
   },
   "outputs": [],
   "source": [
    "# Move GPU tensor to CPU\n",
    "tensor_gpu_cpu = tensor_gpu.to(device='cpu')\n",
    "\n",
    "# Move CPU tensor to GPU\n",
    "tensor_cpu_gpu = tensor_cpu.to(device='cuda')"
   ]
  },
  {
   "cell_type": "code",
   "execution_count": 50,
   "metadata": {
    "execution": {
     "iopub.execute_input": "2025-03-03T09:45:07.039961Z",
     "iopub.status.busy": "2025-03-03T09:45:07.039598Z",
     "iopub.status.idle": "2025-03-03T09:45:07.045430Z",
     "shell.execute_reply": "2025-03-03T09:45:07.044741Z",
     "shell.execute_reply.started": "2025-03-03T09:45:07.039931Z"
    },
    "trusted": true
   },
   "outputs": [],
   "source": [
    " a = torch.tensor([[1, 2], [3, 4]])\n",
    " b = torch.tensor([[5, 6], [7, 8]])\n",
    " c = torch.tensor([[2, 2], [2, 2]])\n",
    " d = a + b\n",
    " e = d * c"
   ]
  },
  {
   "cell_type": "code",
   "execution_count": 51,
   "metadata": {
    "execution": {
     "iopub.execute_input": "2025-03-03T09:45:08.849827Z",
     "iopub.status.busy": "2025-03-03T09:45:08.849469Z",
     "iopub.status.idle": "2025-03-03T09:45:08.855782Z",
     "shell.execute_reply": "2025-03-03T09:45:08.855001Z",
     "shell.execute_reply.started": "2025-03-03T09:45:08.849798Z"
    },
    "trusted": true
   },
   "outputs": [
    {
     "name": "stdout",
     "output_type": "stream",
     "text": [
      "tensor([[ 6,  8],\n",
      "        [10, 12]])\n",
      "tensor([[12, 16],\n",
      "        [20, 24]])\n"
     ]
    }
   ],
   "source": [
    "print(d)\n",
    "print(e)"
   ]
  },
  {
   "cell_type": "code",
   "execution_count": 54,
   "metadata": {
    "execution": {
     "iopub.execute_input": "2025-03-03T09:46:42.160879Z",
     "iopub.status.busy": "2025-03-03T09:46:42.160493Z",
     "iopub.status.idle": "2025-03-03T09:46:42.165612Z",
     "shell.execute_reply": "2025-03-03T09:46:42.164910Z",
     "shell.execute_reply.started": "2025-03-03T09:46:42.160849Z"
    },
    "trusted": true
   },
   "outputs": [],
   "source": [
    "a = torch.tensor([[1, 2], [3, 4]])\n",
    "b = torch.tensor([[5, 6], [7, 8]])\n",
    "c = torch.tensor([[2], [2]])\n",
    "d = a + b\n",
    "e = d * c"
   ]
  },
  {
   "cell_type": "code",
   "execution_count": 55,
   "metadata": {
    "execution": {
     "iopub.execute_input": "2025-03-03T09:46:42.426480Z",
     "iopub.status.busy": "2025-03-03T09:46:42.426215Z",
     "iopub.status.idle": "2025-03-03T09:46:42.432026Z",
     "shell.execute_reply": "2025-03-03T09:46:42.431286Z",
     "shell.execute_reply.started": "2025-03-03T09:46:42.426460Z"
    },
    "trusted": true
   },
   "outputs": [
    {
     "name": "stdout",
     "output_type": "stream",
     "text": [
      "tensor([[ 6,  8],\n",
      "        [10, 12]])\n",
      "tensor([[12, 16],\n",
      "        [20, 24]])\n"
     ]
    }
   ],
   "source": [
    "print(d)\n",
    "print(e)"
   ]
  }
 ],
 "metadata": {
  "kaggle": {
   "accelerator": "gpu",
   "dataSources": [],
   "dockerImageVersionId": 30919,
   "isGpuEnabled": true,
   "isInternetEnabled": true,
   "language": "python",
   "sourceType": "notebook"
  },
  "kernelspec": {
   "display_name": "Python 3",
   "language": "python",
   "name": "python3"
  },
  "language_info": {
   "codemirror_mode": {
    "name": "ipython",
    "version": 3
   },
   "file_extension": ".py",
   "mimetype": "text/x-python",
   "name": "python",
   "nbconvert_exporter": "python",
   "pygments_lexer": "ipython3",
   "version": "3.10.12"
  }
 },
 "nbformat": 4,
 "nbformat_minor": 4
}
